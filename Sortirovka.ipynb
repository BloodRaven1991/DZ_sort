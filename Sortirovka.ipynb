{
 "cells": [
  {
   "cell_type": "markdown",
   "metadata": {},
   "source": [
    "Задание 1\n",
    "Необходимо отсортировать первые две трети списка\n",
    "в порядке возрастания, если среднее арифметическое\n",
    "всех элементов больше нуля; иначе — лишь первую треть.\n",
    "Остальную часть списка не сортировать, а расположить\n",
    "в обратном порядке.\n"
   ]
  },
  {
   "cell_type": "code",
   "execution_count": 3,
   "metadata": {},
   "outputs": [
    {
     "name": "stdout",
     "output_type": "stream",
     "text": [
      "[-5, -3, 0, 2, 7, 9, 1, -8, 3]\n"
     ]
    }
   ],
   "source": [
    "def custom_sort(numbers):\n",
    "    avg = sum(numbers) / len(numbers)\n",
    "    \n",
    "    n = len(numbers)\n",
    "    \n",
    "    if avg > 0:\n",
    "        part_to_sort = numbers[:2 * n // 3]\n",
    "    else:\n",
    "        part_to_sort = numbers[:n // 3]\n",
    "    \n",
    "    sorted_part = sorted(part_to_sort)\n",
    "    \n",
    "    remaining_part = numbers[len(part_to_sort):]\n",
    "    \n",
    "    reversed_remaining_part = remaining_part[::-1]\n",
    "    \n",
    "    result = sorted_part + reversed_remaining_part\n",
    "    \n",
    "    return result\n",
    "\n",
    "numbers = [9, -3, 2, 7, -5, 0, 3, -8, 1]\n",
    "sorted_numbers = custom_sort(numbers)\n",
    "print(sorted_numbers)\n"
   ]
  },
  {
   "cell_type": "markdown",
   "metadata": {},
   "source": [
    "Задание 2\n",
    "Написать программу «успеваемость». Пользователь\n",
    "вводит 10 оценок студента. Оценки от 1 до 12. Реализовать\n",
    "меню для пользователя:\n",
    "■ Вывод оценок (вывод содержимого списка);\n",
    "■ Пересдача экзамена (пользователь вводит номер элемента списка и новую оценку);\n",
    "■ Выходит ли стипендия (стипендия выходит, если\n",
    "средний бал не ниже 10.7);\n",
    "■ Вывод отсортированного списка оценок: по возрастанию или убыванию."
   ]
  },
  {
   "cell_type": "code",
   "execution_count": 1,
   "metadata": {},
   "outputs": [
    {
     "name": "stdout",
     "output_type": "stream",
     "text": [
      "Введите 10 оценок от 1 до 12:\n",
      "\n",
      "Меню:\n",
      "1. Вывод оценок\n",
      "2. Пересдача экзамена\n",
      "3. Выходит ли стипендия\n",
      "4. Вывод отсортированного списка оценок\n",
      "5. Выход\n",
      "Оценки: [12.0, 11.0, 10.0, 9.0, 3.0, 10.0, 12.0, 11.0, 7.0, 9.0]\n",
      "\n",
      "Меню:\n",
      "1. Вывод оценок\n",
      "2. Пересдача экзамена\n",
      "3. Выходит ли стипендия\n",
      "4. Вывод отсортированного списка оценок\n",
      "5. Выход\n",
      "Оценка на позиции 5 обновлена на 10.0.\n",
      "\n",
      "Меню:\n",
      "1. Вывод оценок\n",
      "2. Пересдача экзамена\n",
      "3. Выходит ли стипендия\n",
      "4. Вывод отсортированного списка оценок\n",
      "5. Выход\n",
      "Стипендия не выходит.\n",
      "\n",
      "Меню:\n",
      "1. Вывод оценок\n",
      "2. Пересдача экзамена\n",
      "3. Выходит ли стипендия\n",
      "4. Вывод отсортированного списка оценок\n",
      "5. Выход\n",
      "Сортированный список оценок (возрастание): [7.0, 9.0, 9.0, 10.0, 10.0, 10.0, 11.0, 11.0, 12.0, 12.0]\n",
      "\n",
      "Меню:\n",
      "1. Вывод оценок\n",
      "2. Пересдача экзамена\n",
      "3. Выходит ли стипендия\n",
      "4. Вывод отсортированного списка оценок\n",
      "5. Выход\n",
      "Выход из программы.\n"
     ]
    }
   ],
   "source": [
    "def main():\n",
    "    grades = []\n",
    "    print(\"Введите 10 оценок от 1 до 12:\")\n",
    "    for i in range(10):\n",
    "        while True:\n",
    "            try:\n",
    "                grade = float(input(f\"Оценка {i + 1}: \"))\n",
    "                if 1 <= grade <= 12:\n",
    "                    grades.append(grade)\n",
    "                    break\n",
    "                else:\n",
    "                    print(\"Оценка должна быть в диапазоне от 1 до 12. Попробуйте снова.\")\n",
    "            except ValueError:\n",
    "                print(\"Введите корректное число.\")\n",
    "    \n",
    "    while True:\n",
    "        print(\"\\nМеню:\")\n",
    "        print(\"1. Вывод оценок\")\n",
    "        print(\"2. Пересдача экзамена\")\n",
    "        print(\"3. Выходит ли стипендия\")\n",
    "        print(\"4. Вывод отсортированного списка оценок\")\n",
    "        print(\"5. Выход\")\n",
    "        \n",
    "        choice = input(\"Выберите действие (1-5): \")\n",
    "        \n",
    "        if choice == '1':\n",
    "            print(\"Оценки:\", grades)\n",
    "        \n",
    "        elif choice == '2':\n",
    "            index = int(input(\"Введите номер элемента списка для пересдачи (1-10): \")) - 1\n",
    "            if 0 <= index < len(grades):\n",
    "                new_grade = float(input(\"Введите новую оценку: \"))\n",
    "                if 1 <= new_grade <= 12:\n",
    "                    grades[index] = new_grade\n",
    "                    print(f\"Оценка на позиции {index + 1} обновлена на {new_grade}.\")\n",
    "                else:\n",
    "                    print(\"Оценка должна быть в диапазоне от 1 до 12.\")\n",
    "            else:\n",
    "                print(\"Некорректный номер элемента.\")\n",
    "        \n",
    "        elif choice == '3':\n",
    "            average = sum(grades) / len(grades)\n",
    "            if average >= 10.7:\n",
    "                print(\"Стипендия выходит.\")\n",
    "            else:\n",
    "                print(\"Стипендия не выходит.\")\n",
    "        \n",
    "        elif choice == '4':\n",
    "            order = input(\"Выберите порядок сортировки (возрастание/убывание): \").strip().lower()\n",
    "            if order == 'возрастание':\n",
    "                sorted_grades = sorted(grades)\n",
    "                print(\"Сортированный список оценок (возрастание):\", sorted_grades)\n",
    "            elif order == 'убывание':\n",
    "                sorted_grades = sorted(grades, reverse=True)\n",
    "                print(\"Сортированный список оценок (убывание):\", sorted_grades)\n",
    "            else:\n",
    "                print(\"Некорректный выбор порядка сортировки.\")\n",
    "        \n",
    "        elif choice == '5':\n",
    "            print(\"Выход из программы.\")\n",
    "            break\n",
    "        \n",
    "        else:\n",
    "            print(\"Некорректный выбор. Попробуйте снова.\")\n",
    "\n",
    "if __name__ == \"__main__\":\n",
    "    main()\n"
   ]
  },
  {
   "cell_type": "markdown",
   "metadata": {},
   "source": [
    "Задание 3\n",
    "Написать программу, реализующую сортировку списка\n",
    "методом усовершенствованной сортировки пузырьковым\n",
    "методом. Усовершенствование состоит в том, чтобы анализировать количество перестановок на каждом шагу, если\n",
    "это количество равно нулю, то продолжать сортировку\n",
    "нет смысла — список отсортирован."
   ]
  },
  {
   "cell_type": "code",
   "execution_count": 2,
   "metadata": {},
   "outputs": [
    {
     "name": "stdout",
     "output_type": "stream",
     "text": [
      "Исходный список: [9, 1, 4, 2, 8, -2, 10, -6]\n",
      "Отсортированный список: [-6, -2, 1, 2, 4, 8, 9, 10]\n"
     ]
    }
   ],
   "source": [
    "def bubble_sort_optimized(arr):\n",
    "    n = len(arr)\n",
    "    for i in range(n):\n",
    "        swapped = False\n",
    "        for j in range(0, n - i - 1):\n",
    "            if arr[j] > arr[j + 1]:\n",
    "                arr[j], arr[j + 1] = arr[j + 1], arr[j]\n",
    "                swapped = True\n",
    "        if not swapped:\n",
    "            break\n",
    "\n",
    "if __name__ == \"__main__\":\n",
    "    arr = list(map(int, input(\"Введите элементы списка через пробел: \").split()))\n",
    "    print(\"Исходный список:\", arr)\n",
    "    \n",
    "    bubble_sort_optimized(arr)\n",
    "    print(\"Отсортированный список:\", arr)\n"
   ]
  }
 ],
 "metadata": {
  "kernelspec": {
   "display_name": "Python 3",
   "language": "python",
   "name": "python3"
  },
  "language_info": {
   "codemirror_mode": {
    "name": "ipython",
    "version": 3
   },
   "file_extension": ".py",
   "mimetype": "text/x-python",
   "name": "python",
   "nbconvert_exporter": "python",
   "pygments_lexer": "ipython3",
   "version": "3.12.6"
  }
 },
 "nbformat": 4,
 "nbformat_minor": 2
}
